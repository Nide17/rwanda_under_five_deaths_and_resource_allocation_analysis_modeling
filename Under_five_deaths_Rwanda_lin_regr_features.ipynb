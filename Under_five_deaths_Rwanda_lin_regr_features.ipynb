{
 "cells": [
  {
   "cell_type": "code",
   "execution_count": 380,
   "metadata": {},
   "outputs": [],
   "source": [
    "# Under-five deaths\tPrevalence of HIV, total (% of population ages 15-49); Mortality rate, adult, female (per 1,000 female adults) - Rwanda\tLife expectancy at birth, total (years); Immunization, measles (% of children ages 12-23 months)"
   ]
  },
  {
   "cell_type": "code",
   "execution_count": 381,
   "metadata": {},
   "outputs": [],
   "source": [
    "# IMPORTING LIBRARIES\n",
    "import warnings\n",
    "import pandas as pd\n",
    "import numpy as np\n",
    "import matplotlib.pyplot as plt\n",
    "from sklearn.model_selection import train_test_split\n",
    "from sklearn.linear_model import LinearRegression\n",
    "from sklearn.metrics import mean_squared_error, r2_score\n",
    "\n",
    "warnings.filterwarnings(\"ignore\")"
   ]
  },
  {
   "cell_type": "code",
   "execution_count": 382,
   "metadata": {},
   "outputs": [
    {
     "data": {
      "text/html": [
       "<div>\n",
       "<style scoped>\n",
       "    .dataframe tbody tr th:only-of-type {\n",
       "        vertical-align: middle;\n",
       "    }\n",
       "\n",
       "    .dataframe tbody tr th {\n",
       "        vertical-align: top;\n",
       "    }\n",
       "\n",
       "    .dataframe thead th {\n",
       "        text-align: right;\n",
       "    }\n",
       "</style>\n",
       "<table border=\"1\" class=\"dataframe\">\n",
       "  <thead>\n",
       "    <tr style=\"text-align: right;\">\n",
       "      <th></th>\n",
       "      <th>Time period</th>\n",
       "      <th>Under-five deaths</th>\n",
       "      <th>Prevalence of HIV, total (% of population ages 15-49)</th>\n",
       "      <th>Mortality rate, adult, female (per 1,000 female adults) - Rwanda</th>\n",
       "      <th>Life expectancy at birth, total (years)</th>\n",
       "      <th>Immunization, measles (% of children ages 12-23 months)</th>\n",
       "    </tr>\n",
       "  </thead>\n",
       "  <tbody>\n",
       "    <tr>\n",
       "      <th>0</th>\n",
       "      <td>1990-06</td>\n",
       "      <td>48073</td>\n",
       "      <td>2.8</td>\n",
       "      <td>426.406</td>\n",
       "      <td>48.431</td>\n",
       "      <td>83</td>\n",
       "    </tr>\n",
       "    <tr>\n",
       "      <th>1</th>\n",
       "      <td>1991-06</td>\n",
       "      <td>51293</td>\n",
       "      <td>3.3</td>\n",
       "      <td>457.505</td>\n",
       "      <td>46.519</td>\n",
       "      <td>89</td>\n",
       "    </tr>\n",
       "  </tbody>\n",
       "</table>\n",
       "</div>"
      ],
      "text/plain": [
       "  Time period  Under-five deaths  \\\n",
       "0     1990-06              48073   \n",
       "1     1991-06              51293   \n",
       "\n",
       "   Prevalence of HIV, total (% of population ages 15-49)  \\\n",
       "0                                                2.8       \n",
       "1                                                3.3       \n",
       "\n",
       "   Mortality rate, adult, female (per 1,000 female adults) - Rwanda  \\\n",
       "0                                            426.406                  \n",
       "1                                            457.505                  \n",
       "\n",
       "   Life expectancy at birth, total (years)  \\\n",
       "0                                   48.431   \n",
       "1                                   46.519   \n",
       "\n",
       "   Immunization, measles (% of children ages 12-23 months)  \n",
       "0                                                 83        \n",
       "1                                                 89        "
      ]
     },
     "execution_count": 382,
     "metadata": {},
     "output_type": "execute_result"
    }
   ],
   "source": [
    "# IMPORTING DATASET\n",
    "dataset = pd.read_excel(\"Under-five deaths.xlsx\")\n",
    "dataset.head(2)"
   ]
  },
  {
   "cell_type": "code",
   "execution_count": 383,
   "metadata": {},
   "outputs": [
    {
     "data": {
      "text/html": [
       "<div>\n",
       "<style scoped>\n",
       "    .dataframe tbody tr th:only-of-type {\n",
       "        vertical-align: middle;\n",
       "    }\n",
       "\n",
       "    .dataframe tbody tr th {\n",
       "        vertical-align: top;\n",
       "    }\n",
       "\n",
       "    .dataframe thead th {\n",
       "        text-align: right;\n",
       "    }\n",
       "</style>\n",
       "<table border=\"1\" class=\"dataframe\">\n",
       "  <thead>\n",
       "    <tr style=\"text-align: right;\">\n",
       "      <th></th>\n",
       "      <th>Time period</th>\n",
       "      <th>Under-five deaths</th>\n",
       "      <th>Prevalence of HIV, total (% of population ages 15-49)</th>\n",
       "      <th>Mortality rate, adult, female (per 1,000 female adults) - Rwanda</th>\n",
       "      <th>Life expectancy at birth, total (years)</th>\n",
       "      <th>Immunization, measles (% of children ages 12-23 months)</th>\n",
       "    </tr>\n",
       "  </thead>\n",
       "  <tbody>\n",
       "    <tr>\n",
       "      <th>0</th>\n",
       "      <td>1990-06-01</td>\n",
       "      <td>48073</td>\n",
       "      <td>2.8</td>\n",
       "      <td>426.406</td>\n",
       "      <td>48.431</td>\n",
       "      <td>83</td>\n",
       "    </tr>\n",
       "    <tr>\n",
       "      <th>1</th>\n",
       "      <td>1991-06-01</td>\n",
       "      <td>51293</td>\n",
       "      <td>3.3</td>\n",
       "      <td>457.505</td>\n",
       "      <td>46.519</td>\n",
       "      <td>89</td>\n",
       "    </tr>\n",
       "  </tbody>\n",
       "</table>\n",
       "</div>"
      ],
      "text/plain": [
       "  Time period  Under-five deaths  \\\n",
       "0  1990-06-01              48073   \n",
       "1  1991-06-01              51293   \n",
       "\n",
       "   Prevalence of HIV, total (% of population ages 15-49)  \\\n",
       "0                                                2.8       \n",
       "1                                                3.3       \n",
       "\n",
       "   Mortality rate, adult, female (per 1,000 female adults) - Rwanda  \\\n",
       "0                                            426.406                  \n",
       "1                                            457.505                  \n",
       "\n",
       "   Life expectancy at birth, total (years)  \\\n",
       "0                                   48.431   \n",
       "1                                   46.519   \n",
       "\n",
       "   Immunization, measles (% of children ages 12-23 months)  \n",
       "0                                                 83        \n",
       "1                                                 89        "
      ]
     },
     "execution_count": 383,
     "metadata": {},
     "output_type": "execute_result"
    }
   ],
   "source": [
    "# MAKE TIME PERIOD THE DATETIME TYPE\n",
    "dataset[\"Time period\"] = pd.to_datetime(dataset[\"Time period\"])\n",
    "dataset.head(2)"
   ]
  },
  {
   "cell_type": "code",
   "execution_count": 384,
   "metadata": {},
   "outputs": [
    {
     "data": {
      "image/png": "[encoded data removed]",
      "text/plain": [
       "<Figure size 1200x500 with 1 Axes>"
      ]
     },
     "metadata": {},
     "output_type": "display_data"
    }
   ],
   "source": [
    "# DEATH UNDER FIVE YEARS TIME SERIES\n",
    "dataset.set_index(\"Time period\", inplace=True)\n",
    "\n",
    "# PLOT THE TIME SERIES\n",
    "plt.figure(figsize=(12, 5), edgecolor=\"r\", facecolor=\"y\", linewidth=1)\n",
    "plt.plot(dataset[\"Under-five deaths\"], color=\"lime\", marker=\"o\", linestyle=\"--\")\n",
    "plt.xlabel(\"Time Period\")\n",
    "plt.ylabel(\"Under-five deaths\")\n",
    "plt.title(\"Under-five deaths Time Series\")\n",
    "plt.grid(True)\n",
    "plt.show()"
   ]
  },
  {
   "cell_type": "code",
   "execution_count": 385,
   "metadata": {},
   "outputs": [
    {
     "name": "stdout",
     "output_type": "stream",
     "text": [
      "Mean squared error: 7450250.05\n",
      "Coefficient of determination: 0.97\n",
      "                                             Feature  Coefficient  \\\n",
      "0  Prevalence of HIV, total (% of population ages...  1731.410855   \n",
      "2            Life expectancy at birth, total (years) -1679.403575   \n",
      "3  Immunization, measles (% of children ages 12-2...  -199.923388   \n",
      "1  Mortality rate, adult, female (per 1,000 femal...    -5.356599   \n",
      "\n",
      "   Absolute Coefficient  \n",
      "0           1731.410855  \n",
      "2           1679.403575  \n",
      "3            199.923388  \n",
      "1              5.356599  \n"
     ]
    }
   ],
   "source": [
    "# TARGET VARIABLE AND FEATURE VARIABLES\n",
    "target = \"Under-five deaths\"\n",
    "dataset.columns\n",
    "features = [\n",
    "    \"Prevalence of HIV, total (% of population ages 15-49)\",\n",
    "    \"Mortality rate, adult, female (per 1,000 female adults) - Rwanda\",\n",
    "    \"Life expectancy at birth, total (years)\",\n",
    "    \"Immunization, measles (% of children ages 12-23 months)\",\n",
    "]\n",
    "\n",
    "X = dataset[features]\n",
    "y = dataset[target]\n",
    "\n",
    "# SPLITTING THE DATASET INTO TRAIN AND TEST SETS\n",
    "X_train, X_test, y_train, y_test = train_test_split(X, y, test_size=0.2)\n",
    "\n",
    "# TRAINING THE MODEL\n",
    "model = LinearRegression()\n",
    "model.fit(X_train, y_train)\n",
    "\n",
    "# MAKING PREDICTIONS\n",
    "y_pred = model.predict(X_test)\n",
    "\n",
    "# MODEL EVALUATION\n",
    "print(\"Mean squared error: %.2f\" % mean_squared_error(y_test, y_pred))\n",
    "print(\"Coefficient of determination: %.2f\" % r2_score(y_test, y_pred))\n",
    "\n",
    "# Get the coefficients (weights) and corresponding feature names\n",
    "coefficients = model.coef_\n",
    "feature_names = X.columns\n",
    "\n",
    "# Create a DataFrame to display the coefficients and their respective feature names\n",
    "feature_importance = pd.DataFrame(\n",
    "    {\"Feature\": feature_names, \"Coefficient\": coefficients}\n",
    ")\n",
    "\n",
    "# Sort the features based on their absolute coefficient values (importance)\n",
    "feature_importance[\"Absolute Coefficient\"] = feature_importance[\"Coefficient\"].abs()\n",
    "feature_importance = feature_importance.sort_values(\n",
    "    by=\"Absolute Coefficient\", ascending=False\n",
    ")\n",
    "\n",
    "# Display the feature importance\n",
    "print(feature_importance)"
   ]
  },
  {
   "cell_type": "code",
   "execution_count": 386,
   "metadata": {},
   "outputs": [
    {
     "data": {
      "text/html": [
       "<div>\n",
       "<style scoped>\n",
       "    .dataframe tbody tr th:only-of-type {\n",
       "        vertical-align: middle;\n",
       "    }\n",
       "\n",
       "    .dataframe tbody tr th {\n",
       "        vertical-align: top;\n",
       "    }\n",
       "\n",
       "    .dataframe thead th {\n",
       "        text-align: right;\n",
       "    }\n",
       "</style>\n",
       "<table border=\"1\" class=\"dataframe\">\n",
       "  <thead>\n",
       "    <tr style=\"text-align: right;\">\n",
       "      <th></th>\n",
       "      <th>Under-five deaths</th>\n",
       "      <th>Prevalence of HIV, total (% of population ages 15-49)</th>\n",
       "      <th>Life expectancy at birth, total (years)</th>\n",
       "      <th>Immunization, measles (% of children ages 12-23 months)</th>\n",
       "    </tr>\n",
       "    <tr>\n",
       "      <th>Time period</th>\n",
       "      <th></th>\n",
       "      <th></th>\n",
       "      <th></th>\n",
       "      <th></th>\n",
       "    </tr>\n",
       "  </thead>\n",
       "  <tbody>\n",
       "    <tr>\n",
       "      <th>1990-06-01</th>\n",
       "      <td>48073</td>\n",
       "      <td>2.8</td>\n",
       "      <td>48.431</td>\n",
       "      <td>83</td>\n",
       "    </tr>\n",
       "    <tr>\n",
       "      <th>1991-06-01</th>\n",
       "      <td>51293</td>\n",
       "      <td>3.3</td>\n",
       "      <td>46.519</td>\n",
       "      <td>89</td>\n",
       "    </tr>\n",
       "    <tr>\n",
       "      <th>1992-06-01</th>\n",
       "      <td>56021</td>\n",
       "      <td>3.7</td>\n",
       "      <td>44.319</td>\n",
       "      <td>82</td>\n",
       "    </tr>\n",
       "    <tr>\n",
       "      <th>1993-06-01</th>\n",
       "      <td>61798</td>\n",
       "      <td>4.1</td>\n",
       "      <td>42.166</td>\n",
       "      <td>74</td>\n",
       "    </tr>\n",
       "    <tr>\n",
       "      <th>1995-06-01</th>\n",
       "      <td>63589</td>\n",
       "      <td>4.6</td>\n",
       "      <td>39.969</td>\n",
       "      <td>84</td>\n",
       "    </tr>\n",
       "  </tbody>\n",
       "</table>\n",
       "</div>"
      ],
      "text/plain": [
       "             Under-five deaths  \\\n",
       "Time period                      \n",
       "1990-06-01               48073   \n",
       "1991-06-01               51293   \n",
       "1992-06-01               56021   \n",
       "1993-06-01               61798   \n",
       "1995-06-01               63589   \n",
       "\n",
       "             Prevalence of HIV, total (% of population ages 15-49)  \\\n",
       "Time period                                                          \n",
       "1990-06-01                                                 2.8       \n",
       "1991-06-01                                                 3.3       \n",
       "1992-06-01                                                 3.7       \n",
       "1993-06-01                                                 4.1       \n",
       "1995-06-01                                                 4.6       \n",
       "\n",
       "             Life expectancy at birth, total (years)  \\\n",
       "Time period                                            \n",
       "1990-06-01                                    48.431   \n",
       "1991-06-01                                    46.519   \n",
       "1992-06-01                                    44.319   \n",
       "1993-06-01                                    42.166   \n",
       "1995-06-01                                    39.969   \n",
       "\n",
       "             Immunization, measles (% of children ages 12-23 months)  \n",
       "Time period                                                           \n",
       "1990-06-01                                                  83        \n",
       "1991-06-01                                                  89        \n",
       "1992-06-01                                                  82        \n",
       "1993-06-01                                                  74        \n",
       "1995-06-01                                                  84        "
      ]
     },
     "execution_count": 386,
     "metadata": {},
     "output_type": "execute_result"
    }
   ],
   "source": [
    "# REMOVE ROW OF THE YEAR 1994 FROM THE DATASET AND CONSIDER IMPORTANT FEATURES ONLY: Life expectancy at birth, total (years) & Mortality rate, adult, female (per 1,000 female adults) - Rwanda\n",
    "dataset_no_94 = dataset.drop(index=\"1994-06-01\", axis=0)\n",
    "dataset_no_94 = dataset_no_94.drop(\n",
    "    [\n",
    "        \"Mortality rate, adult, female (per 1,000 female adults) - Rwanda\",\n",
    "    ],\n",
    "    axis=1,\n",
    ")\n",
    "dataset_no_94.head()"
   ]
  },
  {
   "cell_type": "code",
   "execution_count": 387,
   "metadata": {},
   "outputs": [
    {
     "data": {
      "image/png": "[encoded data removed]",
      "text/plain": [
       "<Figure size 1200x500 with 1 Axes>"
      ]
     },
     "metadata": {},
     "output_type": "display_data"
    }
   ],
   "source": [
    "# TIME SERIES PLOT OF THE NEW DATASET\n",
    "plt.figure(figsize=(12, 5), edgecolor=\"r\", facecolor=\"y\", linewidth=1)\n",
    "plt.plot(dataset_no_94[\"Under-five deaths\"], color=\"lime\", marker=\"o\", linestyle=\"--\")\n",
    "plt.xlabel(\"Time Period\")\n",
    "plt.ylabel(\"Under-five deaths\")\n",
    "plt.title(\"Under-five deaths Time Series\")\n",
    "plt.grid(True)\n",
    "plt.show()"
   ]
  },
  {
   "cell_type": "code",
   "execution_count": 388,
   "metadata": {},
   "outputs": [
    {
     "name": "stdout",
     "output_type": "stream",
     "text": [
      "Coefficients: \n",
      " [ 2979.82650719 -1621.27419937   -82.24741673]\n",
      "Mean squared error: 7984885.46\n",
      "Coefficient of determination: 0.97\n"
     ]
    }
   ],
   "source": [
    "# MODEL TRAINING USING THE NEW DATASET WITHOUT THE YEAR 1994 AND WITH IMPORTANT FEATURES ONLY\n",
    "# TARGET VARIABLE AND FEATURE VARIABLES\n",
    "target = \"Under-five deaths\"\n",
    "features = [\n",
    "    \"Prevalence of HIV, total (% of population ages 15-49)\",\n",
    "    \"Life expectancy at birth, total (years)\",\n",
    "    \"Immunization, measles (% of children ages 12-23 months)\",\n",
    "]\n",
    "\n",
    "X = dataset_no_94[features]\n",
    "y = dataset_no_94[target]\n",
    "\n",
    "# SPLITTING THE DATASET INTO TRAIN AND TEST SETS\n",
    "X_train, X_test, y_train, y_test = train_test_split(X, y, test_size=0.2)\n",
    "\n",
    "# TRAINING THE MODEL\n",
    "model2 = LinearRegression()\n",
    "model2.fit(X_train, y_train)\n",
    "\n",
    "# MAKING PREDICTIONS\n",
    "y_pred2 = model2.predict(X_test)\n",
    "\n",
    "# MODEL EVALUATION\n",
    "print(\"Coefficients: \\n\", model2.coef_)\n",
    "print(\"Mean squared error: %.2f\" % mean_squared_error(y_test, y_pred2))\n",
    "print(\"Coefficient of determination: %.2f\" % r2_score(y_test, y_pred2))"
   ]
  },
  {
   "cell_type": "code",
   "execution_count": null,
   "metadata": {},
   "outputs": [],
   "source": []
  }
 ],
 "metadata": {
  "kernelspec": {
   "display_name": "Python 3",
   "language": "python",
   "name": "python3"
  },
  "language_info": {
   "codemirror_mode": {
    "name": "ipython",
    "version": 3
   },
   "file_extension": ".py",
   "mimetype": "text/x-python",
   "name": "python",
   "nbconvert_exporter": "python",
   "pygments_lexer": "ipython3",
   "version": "3.11.5"
  }
 },
 "nbformat": 4,
 "nbformat_minor": 2
}
